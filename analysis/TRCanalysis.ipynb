{
 "cells": [
  {
   "cell_type": "code",
   "execution_count": 82,
   "metadata": {},
   "outputs": [],
   "source": [
    "import uproot as ur\n",
    "import numpy as np\n",
    "import matplotlib.pyplot as plt\n",
    "import os\n",
    "import glob\n",
    "import re\n",
    "from tqdm import tqdm\n",
    "\n",
    "import sys, pathlib\n",
    "sys.path.append(str(pathlib.Path.cwd().parent / \"src\"))\n",
    "\n",
    "import leCroyParser.leCroyParser as lcp     \n"
   ]
  },
  {
   "cell_type": "code",
   "execution_count": 83,
   "metadata": {},
   "outputs": [],
   "source": [
    "PROJECT_ROOT = os.path.abspath(os.path.join(os.getcwd(), os.pardir))\n",
    "\n",
    "OUTPUT_DIR = os.path.join(PROJECT_ROOT, \"output\")\n",
    "DATA_DIR = os.path.join(PROJECT_ROOT, \"data\")\n",
    "FIG_DIR = os.path.join(PROJECT_ROOT, \"figs\")\n",
    "\n",
    "os.makedirs(FIG_DIR, exist_ok=True)"
   ]
  },
  {
   "cell_type": "code",
   "execution_count": 84,
   "metadata": {},
   "outputs": [],
   "source": [
    "power = 80.0\n",
    "idx = 0"
   ]
  },
  {
   "cell_type": "code",
   "execution_count": 85,
   "metadata": {},
   "outputs": [
    {
     "name": "stdout",
     "output_type": "stream",
     "text": [
      "['C1--Trace1.trc', 'C2--Trace1.trc', 'C3--Trace1.trc', 'C4--Trace1.trc', 'C5--Trace1.trc', 'C6--Trace1.trc', 'C7--Trace1.trc']\n"
     ]
    }
   ],
   "source": [
    "def get_latest_run_dir(power, base_path=OUTPUT_DIR):\n",
    "    pattern = os.path.join(base_path, f\"run_*_Power_{power}%\")\n",
    "    run_dirs = sorted(glob.glob(pattern))\n",
    "    if not run_dirs:\n",
    "        raise FileNotFoundError(f\"No run dir for Power={power}%\")\n",
    "    return run_dirs[-1]  # latest by name (timestamped)\n",
    "get_latest_run_dir(power, OUTPUT_DIR)\n",
    "\n",
    "latest_TRCDir = get_latest_run_dir(power, OUTPUT_DIR)\n",
    "latest_TRCDir = os.path.join(latest_TRCDir, \"raw\")\n",
    "TRC_files = sorted(os.listdir(latest_TRCDir))\n",
    "TRC_file_paths = sorted(glob.glob(os.path.join(latest_TRCDir, \"*.trc\")))\n",
    "\n",
    "print(TRC_files)"
   ]
  },
  {
   "cell_type": "code",
   "execution_count": 86,
   "metadata": {},
   "outputs": [],
   "source": [
    "sd = lcp.ScopeData(TRC_file_paths[0])"
   ]
  },
  {
   "cell_type": "code",
   "execution_count": 87,
   "metadata": {},
   "outputs": [
    {
     "ename": "FileNotFoundError",
     "evalue": "No C*--Trace1.trc files in /home/arcadia/FCFD-Laser/output/run_20250922_142045_Power_80.0%/raw",
     "output_type": "error",
     "traceback": [
      "\u001b[0;31m---------------------------------------------------------------------------\u001b[0m",
      "\u001b[0;31mFileNotFoundError\u001b[0m                         Traceback (most recent call last)",
      "Cell \u001b[0;32mIn[87], line 41\u001b[0m\n\u001b[1;32m     39\u001b[0m     \u001b[38;5;28;01mreturn\u001b[39;00m t_seg, y_seg, channel_numbers\n\u001b[1;32m     40\u001b[0m raw_dir \u001b[38;5;241m=\u001b[39m \u001b[38;5;124m\"\u001b[39m\u001b[38;5;124m/home/arcadia/FCFD-Laser/output/run_20250922_142045_Power_80.0\u001b[39m\u001b[38;5;124m%\u001b[39m\u001b[38;5;124m/raw\u001b[39m\u001b[38;5;124m\"\u001b[39m\n\u001b[0;32m---> 41\u001b[0m t_seg, y_seg, chans \u001b[38;5;241m=\u001b[39m \u001b[43mload_run_segments\u001b[49m\u001b[43m(\u001b[49m\u001b[43mraw_dir\u001b[49m\u001b[43m)\u001b[49m\n\u001b[1;32m     43\u001b[0m \u001b[38;5;28mprint\u001b[39m(\u001b[38;5;124m\"\u001b[39m\u001b[38;5;124mShapes:\u001b[39m\u001b[38;5;124m\"\u001b[39m, t_seg\u001b[38;5;241m.\u001b[39mshape, y_seg\u001b[38;5;241m.\u001b[39mshape)   \u001b[38;5;66;03m# (1000, nsamp)  (7,1000,nsamp)\u001b[39;00m\n\u001b[1;32m     45\u001b[0m \u001b[38;5;66;03m# Plot segment 0 for all channels\u001b[39;00m\n",
      "Cell \u001b[0;32mIn[87], line 18\u001b[0m, in \u001b[0;36mload_run_segments\u001b[0;34m(raw_dir)\u001b[0m\n\u001b[1;32m     16\u001b[0m trc_paths \u001b[38;5;241m=\u001b[39m \u001b[38;5;28msorted\u001b[39m(glob\u001b[38;5;241m.\u001b[39mglob(os\u001b[38;5;241m.\u001b[39mpath\u001b[38;5;241m.\u001b[39mjoin(raw_dir, \u001b[38;5;124m\"\u001b[39m\u001b[38;5;124mC*--Trace1.trc\u001b[39m\u001b[38;5;124m\"\u001b[39m)))\n\u001b[1;32m     17\u001b[0m \u001b[38;5;28;01mif\u001b[39;00m \u001b[38;5;129;01mnot\u001b[39;00m trc_paths:\n\u001b[0;32m---> 18\u001b[0m     \u001b[38;5;28;01mraise\u001b[39;00m \u001b[38;5;167;01mFileNotFoundError\u001b[39;00m(\u001b[38;5;124m\"\u001b[39m\u001b[38;5;124mNo C*--Trace1.trc files in \u001b[39m\u001b[38;5;124m\"\u001b[39m \u001b[38;5;241m+\u001b[39m raw_dir)\n\u001b[1;32m     20\u001b[0m channel_numbers \u001b[38;5;241m=\u001b[39m [\u001b[38;5;28mint\u001b[39m(os\u001b[38;5;241m.\u001b[39mpath\u001b[38;5;241m.\u001b[39mbasename(p)[\u001b[38;5;241m1\u001b[39m]) \u001b[38;5;28;01mfor\u001b[39;00m p \u001b[38;5;129;01min\u001b[39;00m trc_paths]  \u001b[38;5;66;03m# 1…8\u001b[39;00m\n\u001b[1;32m     21\u001b[0m voltages \u001b[38;5;241m=\u001b[39m []\n",
      "\u001b[0;31mFileNotFoundError\u001b[0m: No C*--Trace1.trc files in /home/arcadia/FCFD-Laser/output/run_20250922_142045_Power_80.0%/raw"
     ]
    }
   ],
   "source": [
    "import numpy as np\n",
    "from leCroyParser.leCroyParser import ScopeData\n",
    "import glob, os\n",
    "\n",
    "def load_run_segments(raw_dir):\n",
    "    \"\"\"\n",
    "    raw_dir : directory that contains\n",
    "        C1--Trace1.trc … C7--Trace1.trc   (each file already holds 1 000 segments)\n",
    "\n",
    "    Returns\n",
    "        t_seg  : (nseg,  nsamp)               time axis per segment   [s]\n",
    "        y_seg  : (nchan, nseg, nsamp)         voltages                [V]\n",
    "        ch_ids : list of channel numbers      e.g. [1,2,3,4,5,6,7]\n",
    "    \"\"\"\n",
    "    # ---- discover files ----------------------------------------------------\n",
    "    trc_paths = sorted(glob.glob(os.path.join(raw_dir, \"C*--Trace1.trc\")))\n",
    "    if not trc_paths:\n",
    "        raise FileNotFoundError(\"No C*--Trace1.trc files in \" + raw_dir)\n",
    "\n",
    "    channel_numbers = [int(os.path.basename(p)[1]) for p in trc_paths]  # 1…8\n",
    "    voltages = []\n",
    "    nseg = nsamp = None\n",
    "\n",
    "    # ---- loop over each channel file ---------------------------------------\n",
    "    for p in trc_paths:\n",
    "        sd = ScopeData(p)                     # parse ONE file, one channel\n",
    "        if nseg is None:\n",
    "            nseg  = int(sd.sequenceSegments)\n",
    "            total = sd.y.size\n",
    "            nsamp = total // nseg\n",
    "            t_seg = np.asarray(sd.x, float)[:nseg*nsamp].reshape(nseg, nsamp)\n",
    "\n",
    "        # reshape voltage for this channel\n",
    "        y = np.asarray(sd.y, float)[:nseg*nsamp].reshape(nseg, nsamp)\n",
    "        voltages.append(y)\n",
    "\n",
    "    # stack → (nchan, nseg, nsamp)\n",
    "    y_seg = np.stack(voltages, axis=0)\n",
    "    return t_seg, y_seg, channel_numbers\n",
    "raw_dir = \"/home/arcadia/FCFD-Laser/output/run_20250922_142045_Power_80.0%/raw\"\n",
    "t_seg, y_seg, chans = load_run_segments(raw_dir)\n",
    "\n",
    "print(\"Shapes:\", t_seg.shape, y_seg.shape)   # (1000, nsamp)  (7,1000,nsamp)\n",
    "\n",
    "# Plot segment 0 for all channels\n",
    "import matplotlib.pyplot as plt\n",
    "for idx, ch in enumerate(chans):\n",
    "    plt.plot(t_seg[0]*1e9, y_seg[idx, 0], label=f\"C{ch}\")\n",
    "plt.xlabel(\"Time [ns]\"); plt.ylabel(\"V\"); plt.legend(ncol=4); plt.show()\n"
   ]
  },
  {
   "cell_type": "code",
   "execution_count": 74,
   "metadata": {},
   "outputs": [
    {
     "name": "stdout",
     "output_type": "stream",
     "text": [
      "(5002000,) (5002000,)\n"
     ]
    }
   ],
   "source": [
    "t, v = sd.x, sd.y\n",
    "print(t.shape, v.shape)"
   ]
  },
  {
   "cell_type": "code",
   "execution_count": 75,
   "metadata": {},
   "outputs": [
    {
     "data": {
      "text/plain": [
       "1"
      ]
     },
     "execution_count": 75,
     "metadata": {},
     "output_type": "execute_result"
    }
   ],
   "source": [
    "min([t.size] + [y.size for y in v])"
   ]
  },
  {
   "cell_type": "code",
   "execution_count": 76,
   "metadata": {},
   "outputs": [
    {
     "name": "stdout",
     "output_type": "stream",
     "text": [
      "nseg=1000, nsamp=5002, total=5002000\n"
     ]
    },
    {
     "ename": "IndexError",
     "evalue": "too many indices for array: array is 0-dimensional, but 1 were indexed",
     "output_type": "error",
     "traceback": [
      "\u001b[0;31m---------------------------------------------------------------------------\u001b[0m",
      "\u001b[0;31mIndexError\u001b[0m                                Traceback (most recent call last)",
      "Cell \u001b[0;32mIn[76], line 1\u001b[0m\n\u001b[0;32m----> 1\u001b[0m t_seg, v_seg \u001b[38;5;241m=\u001b[39m \u001b[43msplit_segments\u001b[49m\u001b[43m(\u001b[49m\u001b[43msd\u001b[49m\u001b[43m)\u001b[49m         \u001b[38;5;66;03m# t_seg = 1-D, v_seg = (1000,n)\u001b[39;00m\n\u001b[1;32m      3\u001b[0m \u001b[38;5;66;03m# plot segment 0 and 1\u001b[39;00m\n\u001b[1;32m      4\u001b[0m plt\u001b[38;5;241m.\u001b[39mplot(t_seg\u001b[38;5;241m*\u001b[39m\u001b[38;5;241m1e6\u001b[39m, v_seg[\u001b[38;5;241m0\u001b[39m], label\u001b[38;5;241m=\u001b[39m\u001b[38;5;124m\"\u001b[39m\u001b[38;5;124mseg 0\u001b[39m\u001b[38;5;124m\"\u001b[39m)\n",
      "Cell \u001b[0;32mIn[73], line 15\u001b[0m, in \u001b[0;36msplit_segments\u001b[0;34m(sd)\u001b[0m\n\u001b[1;32m     12\u001b[0m \u001b[38;5;66;03m# reshape using ACTUAL timing from the file\u001b[39;00m\n\u001b[1;32m     13\u001b[0m t_seg \u001b[38;5;241m=\u001b[39m x[:total]\u001b[38;5;241m.\u001b[39mreshape(nseg, nsamp)\n\u001b[1;32m     14\u001b[0m y_seg \u001b[38;5;241m=\u001b[39m np\u001b[38;5;241m.\u001b[39mstack(\n\u001b[0;32m---> 15\u001b[0m     [y[:total]\u001b[38;5;241m.\u001b[39mreshape(nseg, nsamp) \u001b[38;5;28;01mfor\u001b[39;00m y \u001b[38;5;129;01min\u001b[39;00m ys], axis\u001b[38;5;241m=\u001b[39m\u001b[38;5;241m0\u001b[39m\n\u001b[1;32m     16\u001b[0m )  \u001b[38;5;66;03m# shape: (nchan, nseg, nsamp)\u001b[39;00m\n\u001b[1;32m     18\u001b[0m \u001b[38;5;28;01mreturn\u001b[39;00m t_seg, y_seg\n",
      "Cell \u001b[0;32mIn[73], line 15\u001b[0m, in \u001b[0;36m<listcomp>\u001b[0;34m(.0)\u001b[0m\n\u001b[1;32m     12\u001b[0m \u001b[38;5;66;03m# reshape using ACTUAL timing from the file\u001b[39;00m\n\u001b[1;32m     13\u001b[0m t_seg \u001b[38;5;241m=\u001b[39m x[:total]\u001b[38;5;241m.\u001b[39mreshape(nseg, nsamp)\n\u001b[1;32m     14\u001b[0m y_seg \u001b[38;5;241m=\u001b[39m np\u001b[38;5;241m.\u001b[39mstack(\n\u001b[0;32m---> 15\u001b[0m     [\u001b[43my\u001b[49m\u001b[43m[\u001b[49m\u001b[43m:\u001b[49m\u001b[43mtotal\u001b[49m\u001b[43m]\u001b[49m\u001b[38;5;241m.\u001b[39mreshape(nseg, nsamp) \u001b[38;5;28;01mfor\u001b[39;00m y \u001b[38;5;129;01min\u001b[39;00m ys], axis\u001b[38;5;241m=\u001b[39m\u001b[38;5;241m0\u001b[39m\n\u001b[1;32m     16\u001b[0m )  \u001b[38;5;66;03m# shape: (nchan, nseg, nsamp)\u001b[39;00m\n\u001b[1;32m     18\u001b[0m \u001b[38;5;28;01mreturn\u001b[39;00m t_seg, y_seg\n",
      "\u001b[0;31mIndexError\u001b[0m: too many indices for array: array is 0-dimensional, but 1 were indexed"
     ]
    }
   ],
   "source": [
    "t_seg, v_seg = split_segments(sd)         # t_seg = 1-D, v_seg = (1000,n)\n",
    "\n",
    "# plot segment 0 and 1\n",
    "plt.plot(t_seg*1e6, v_seg[0], label=\"seg 0\")\n",
    "plt.plot(t_seg*1e6, v_seg[1], label=\"seg 1\")\n",
    "plt.legend(); plt.xlabel(\"time [µs]\"); plt.show()"
   ]
  },
  {
   "cell_type": "code",
   "execution_count": 39,
   "metadata": {},
   "outputs": [
    {
     "name": "stdout",
     "output_type": "stream",
     "text": [
      "[-2.50084401e-07 -2.49984401e-07 -2.49884401e-07 -2.49784401e-07\n",
      " -2.49684401e-07] [0.00048828 0.00453404 0.00502232 0.00216239 0.00013951]\n",
      "samples: 5002000\n"
     ]
    },
    {
     "data": {
      "image/png": "[encoded data removed]",
      "text/plain": [
       "<Figure size 640x480 with 1 Axes>"
      ]
     },
     "metadata": {},
     "output_type": "display_data"
    }
   ],
   "source": [
    "print(t[:5], v[:5])            # inspect\n",
    "print(\"samples:\", v.size)\n",
    "\n",
    "plt.plot(t*1e6, v)             # convert time axis to µs for readability\n",
    "plt.xlabel(\"Time [µs]\")\n",
    "plt.ylabel(\"Voltage [V]\")\n",
    "plt.title(data.waveSource + \"  •  \" + data.triggerTime)\n",
    "plt.grid()\n",
    "plt.show()"
   ]
  },
  {
   "cell_type": "code",
   "execution_count": null,
   "metadata": {},
   "outputs": [],
   "source": []
  }
 ],
 "metadata": {
  "kernelspec": {
   "display_name": "Python 3",
   "language": "python",
   "name": "python3"
  },
  "language_info": {
   "codemirror_mode": {
    "name": "ipython",
    "version": 3
   },
   "file_extension": ".py",
   "mimetype": "text/x-python",
   "name": "python",
   "nbconvert_exporter": "python",
   "pygments_lexer": "ipython3",
   "version": "3.9.18"
  }
 },
 "nbformat": 4,
 "nbformat_minor": 2
}
